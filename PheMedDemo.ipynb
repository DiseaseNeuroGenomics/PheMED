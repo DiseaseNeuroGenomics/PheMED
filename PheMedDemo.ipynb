{
 "cells": [
  {
   "cell_type": "code",
   "execution_count": 44,
   "metadata": {},
   "outputs": [],
   "source": [
    "import phemed as phe\n",
    "import pandas as pd\n",
    "import numpy as np\n",
    "import seaborn as sns\n",
    "import matplotlib.pyplot as plt\n",
    "from importlib import reload\n",
    "import sys\n",
    "import warnings\n",
    "from scipy.stats import norm\n",
    "from scipy.stats import chi2\n",
    "from scipy.optimize import minimize"
   ]
  },
  {
   "cell_type": "code",
   "execution_count": 60,
   "metadata": {},
   "outputs": [],
   "source": [
    "from tqdm import tqdm_notebook"
   ]
  },
  {
   "cell_type": "code",
   "execution_count": 53,
   "metadata": {},
   "outputs": [],
   "source": [
    "import bootstrap as boots"
   ]
  },
  {
   "cell_type": "code",
   "execution_count": 54,
   "metadata": {},
   "outputs": [
    {
     "data": {
      "text/plain": [
       "<module 'bootstrap' from '/Users/davidburstein/Documents/GitHub/PheMED/bootstrap.py'>"
      ]
     },
     "execution_count": 54,
     "metadata": {},
     "output_type": "execute_result"
    }
   ],
   "source": [
    "reload(phe)\n",
    "reload(boots)"
   ]
  },
  {
   "cell_type": "markdown",
   "metadata": {},
   "source": [
    "### 1. Generate Data"
   ]
  },
  {
   "cell_type": "code",
   "execution_count": 25,
   "metadata": {},
   "outputs": [],
   "source": [
    "np.random.seed(20)\n",
    "n_snps = 5000\n",
    "gold_means = .03*np.ones(n_snps)\n",
    "diluted_means = .5*gold_means\n",
    "sample_gold = 1000\n",
    "sample_diluted = 1000\n",
    "se_gold = 1/np.sqrt(500)\n",
    "se_diluted = 1/np.sqrt(10000)"
   ]
  },
  {
   "cell_type": "code",
   "execution_count": null,
   "metadata": {},
   "outputs": [],
   "source": []
  },
  {
   "cell_type": "code",
   "execution_count": null,
   "metadata": {},
   "outputs": [],
   "source": [
    "# TWAS_N*alpha^2 = SC_RNASEQ\n",
    "#alpha = sqrt(SC_RNASEQ/TWAS_N) = sqrt(1000/20000) = sqrt(1/20)"
   ]
  },
  {
   "cell_type": "code",
   "execution_count": 55,
   "metadata": {},
   "outputs": [
    {
     "data": {
      "text/plain": [
       "0.22360679774997896"
      ]
     },
     "execution_count": 55,
     "metadata": {},
     "output_type": "execute_result"
    }
   ],
   "source": [
    "np.sqrt(1/20)\n",
    "#alpha = [1, .223]\n",
    "#alpha = [1,1]"
   ]
  },
  {
   "cell_type": "code",
   "execution_count": 26,
   "metadata": {},
   "outputs": [],
   "source": [
    "df_results = pd.DataFrame(columns = ['SNP','CHR','POS','BETA_Gold','BETA_Diluted','SE_Gold','SE_Diluted'])"
   ]
  },
  {
   "cell_type": "code",
   "execution_count": 27,
   "metadata": {},
   "outputs": [],
   "source": [
    "df_results['SNP'] = np.arange(1,n_snps + 1)\n",
    "df_results['CHR'] = 1\n",
    "df_results['POS'] = df_results['SNP']\n",
    "df_results['BETA_Gold'] = np.random.normal(gold_means, se_gold)\n",
    "df_results['BETA_Diluted'] = np.random.normal(diluted_means, se_diluted)\n",
    "df_results['SE_Gold'] = se_gold\n",
    "df_results['SE_Diluted'] = se_diluted"
   ]
  },
  {
   "cell_type": "code",
   "execution_count": 28,
   "metadata": {},
   "outputs": [
    {
     "data": {
      "text/html": [
       "<div>\n",
       "<style scoped>\n",
       "    .dataframe tbody tr th:only-of-type {\n",
       "        vertical-align: middle;\n",
       "    }\n",
       "\n",
       "    .dataframe tbody tr th {\n",
       "        vertical-align: top;\n",
       "    }\n",
       "\n",
       "    .dataframe thead th {\n",
       "        text-align: right;\n",
       "    }\n",
       "</style>\n",
       "<table border=\"1\" class=\"dataframe\">\n",
       "  <thead>\n",
       "    <tr style=\"text-align: right;\">\n",
       "      <th></th>\n",
       "      <th>SNP</th>\n",
       "      <th>CHR</th>\n",
       "      <th>POS</th>\n",
       "      <th>BETA_Gold</th>\n",
       "      <th>BETA_Diluted</th>\n",
       "      <th>SE_Gold</th>\n",
       "      <th>SE_Diluted</th>\n",
       "    </tr>\n",
       "  </thead>\n",
       "  <tbody>\n",
       "    <tr>\n",
       "      <td>0</td>\n",
       "      <td>1</td>\n",
       "      <td>1</td>\n",
       "      <td>1</td>\n",
       "      <td>0.069529</td>\n",
       "      <td>0.010957</td>\n",
       "      <td>0.044721</td>\n",
       "      <td>0.01</td>\n",
       "    </tr>\n",
       "    <tr>\n",
       "      <td>1</td>\n",
       "      <td>2</td>\n",
       "      <td>1</td>\n",
       "      <td>2</td>\n",
       "      <td>0.038759</td>\n",
       "      <td>0.015121</td>\n",
       "      <td>0.044721</td>\n",
       "      <td>0.01</td>\n",
       "    </tr>\n",
       "    <tr>\n",
       "      <td>2</td>\n",
       "      <td>3</td>\n",
       "      <td>1</td>\n",
       "      <td>3</td>\n",
       "      <td>0.045990</td>\n",
       "      <td>-0.000488</td>\n",
       "      <td>0.044721</td>\n",
       "      <td>0.01</td>\n",
       "    </tr>\n",
       "    <tr>\n",
       "      <td>3</td>\n",
       "      <td>4</td>\n",
       "      <td>1</td>\n",
       "      <td>4</td>\n",
       "      <td>-0.074794</td>\n",
       "      <td>-0.010719</td>\n",
       "      <td>0.044721</td>\n",
       "      <td>0.01</td>\n",
       "    </tr>\n",
       "    <tr>\n",
       "      <td>4</td>\n",
       "      <td>5</td>\n",
       "      <td>1</td>\n",
       "      <td>5</td>\n",
       "      <td>-0.018515</td>\n",
       "      <td>0.011009</td>\n",
       "      <td>0.044721</td>\n",
       "      <td>0.01</td>\n",
       "    </tr>\n",
       "    <tr>\n",
       "      <td>...</td>\n",
       "      <td>...</td>\n",
       "      <td>...</td>\n",
       "      <td>...</td>\n",
       "      <td>...</td>\n",
       "      <td>...</td>\n",
       "      <td>...</td>\n",
       "      <td>...</td>\n",
       "    </tr>\n",
       "    <tr>\n",
       "      <td>4995</td>\n",
       "      <td>4996</td>\n",
       "      <td>1</td>\n",
       "      <td>4996</td>\n",
       "      <td>0.078014</td>\n",
       "      <td>0.004748</td>\n",
       "      <td>0.044721</td>\n",
       "      <td>0.01</td>\n",
       "    </tr>\n",
       "    <tr>\n",
       "      <td>4996</td>\n",
       "      <td>4997</td>\n",
       "      <td>1</td>\n",
       "      <td>4997</td>\n",
       "      <td>0.040007</td>\n",
       "      <td>0.025823</td>\n",
       "      <td>0.044721</td>\n",
       "      <td>0.01</td>\n",
       "    </tr>\n",
       "    <tr>\n",
       "      <td>4997</td>\n",
       "      <td>4998</td>\n",
       "      <td>1</td>\n",
       "      <td>4998</td>\n",
       "      <td>-0.057730</td>\n",
       "      <td>0.006685</td>\n",
       "      <td>0.044721</td>\n",
       "      <td>0.01</td>\n",
       "    </tr>\n",
       "    <tr>\n",
       "      <td>4998</td>\n",
       "      <td>4999</td>\n",
       "      <td>1</td>\n",
       "      <td>4999</td>\n",
       "      <td>-0.003057</td>\n",
       "      <td>0.001067</td>\n",
       "      <td>0.044721</td>\n",
       "      <td>0.01</td>\n",
       "    </tr>\n",
       "    <tr>\n",
       "      <td>4999</td>\n",
       "      <td>5000</td>\n",
       "      <td>1</td>\n",
       "      <td>5000</td>\n",
       "      <td>0.038027</td>\n",
       "      <td>0.004365</td>\n",
       "      <td>0.044721</td>\n",
       "      <td>0.01</td>\n",
       "    </tr>\n",
       "  </tbody>\n",
       "</table>\n",
       "<p>5000 rows × 7 columns</p>\n",
       "</div>"
      ],
      "text/plain": [
       "       SNP  CHR   POS  BETA_Gold  BETA_Diluted   SE_Gold  SE_Diluted\n",
       "0        1    1     1   0.069529      0.010957  0.044721        0.01\n",
       "1        2    1     2   0.038759      0.015121  0.044721        0.01\n",
       "2        3    1     3   0.045990     -0.000488  0.044721        0.01\n",
       "3        4    1     4  -0.074794     -0.010719  0.044721        0.01\n",
       "4        5    1     5  -0.018515      0.011009  0.044721        0.01\n",
       "...    ...  ...   ...        ...           ...       ...         ...\n",
       "4995  4996    1  4996   0.078014      0.004748  0.044721        0.01\n",
       "4996  4997    1  4997   0.040007      0.025823  0.044721        0.01\n",
       "4997  4998    1  4998  -0.057730      0.006685  0.044721        0.01\n",
       "4998  4999    1  4999  -0.003057      0.001067  0.044721        0.01\n",
       "4999  5000    1  5000   0.038027      0.004365  0.044721        0.01\n",
       "\n",
       "[5000 rows x 7 columns]"
      ]
     },
     "execution_count": 28,
     "metadata": {},
     "output_type": "execute_result"
    }
   ],
   "source": [
    "df_results"
   ]
  },
  {
   "cell_type": "markdown",
   "metadata": {},
   "source": [
    "### 2. Run PheMed"
   ]
  },
  {
   "cell_type": "code",
   "execution_count": 29,
   "metadata": {},
   "outputs": [
    {
     "data": {
      "text/plain": [
       "['BETA_Gold', 'BETA_Diluted']"
      ]
     },
     "execution_count": 29,
     "metadata": {},
     "output_type": "execute_result"
    }
   ],
   "source": [
    "beta_vars = [var for var in df_results.columns if var.startswith('BETA')]\n",
    "beta_vars"
   ]
  },
  {
   "cell_type": "code",
   "execution_count": 30,
   "metadata": {},
   "outputs": [
    {
     "data": {
      "text/plain": [
       "['SE_Gold', 'SE_Diluted']"
      ]
     },
     "execution_count": 30,
     "metadata": {},
     "output_type": "execute_result"
    }
   ],
   "source": [
    "se_vars = [var for var in df_results.columns if var.startswith('SE')]\n",
    "se_vars"
   ]
  },
  {
   "cell_type": "code",
   "execution_count": 31,
   "metadata": {},
   "outputs": [],
   "source": [
    "betas = df_results[beta_vars]\n",
    "ses = df_results[se_vars]"
   ]
  },
  {
   "cell_type": "code",
   "execution_count": 34,
   "metadata": {},
   "outputs": [],
   "source": [
    "optimizer = minimize(lambda x: phe.nll_data(betas,ses, x), np.array((1,1)), \n",
    "                        options={'maxiter': 300}, method = 'Nelder-Mead')\n",
    "#code normalizes first entry to be 1\n",
    "optimizer.x[0] = 1"
   ]
  },
  {
   "cell_type": "code",
   "execution_count": 36,
   "metadata": {},
   "outputs": [
    {
     "data": {
      "text/plain": [
       " final_simplex: (array([[1.        , 1.92982354],\n",
       "       [0.56018589, 1.92982354],\n",
       "       [0.56013706, 1.92982354]]), array([2449.79496822, 2449.79496822, 2449.79496822]))\n",
       "           fun: 2449.794968222299\n",
       "       message: 'Optimization terminated successfully.'\n",
       "          nfev: 115\n",
       "           nit: 56\n",
       "        status: 0\n",
       "       success: True\n",
       "             x: array([1.        , 1.92982354])"
      ]
     },
     "execution_count": 36,
     "metadata": {},
     "output_type": "execute_result"
    }
   ],
   "source": [
    "optimizer"
   ]
  },
  {
   "cell_type": "code",
   "execution_count": 38,
   "metadata": {},
   "outputs": [
    {
     "data": {
      "text/plain": [
       "2449.794968222299"
      ]
     },
     "execution_count": 38,
     "metadata": {},
     "output_type": "execute_result"
    }
   ],
   "source": [
    "#negative log likelihood of alpha\n",
    "phe.nll_data(betas, ses, optimizer.x)"
   ]
  },
  {
   "cell_type": "code",
   "execution_count": 35,
   "metadata": {},
   "outputs": [
    {
     "data": {
      "text/plain": [
       "array([1.        , 1.92982354])"
      ]
     },
     "execution_count": 35,
     "metadata": {},
     "output_type": "execute_result"
    }
   ],
   "source": [
    "optimizer.x"
   ]
  },
  {
   "cell_type": "code",
   "execution_count": 46,
   "metadata": {},
   "outputs": [
    {
     "data": {
      "text/html": [
       "<div>\n",
       "<style scoped>\n",
       "    .dataframe tbody tr th:only-of-type {\n",
       "        vertical-align: middle;\n",
       "    }\n",
       "\n",
       "    .dataframe tbody tr th {\n",
       "        vertical-align: top;\n",
       "    }\n",
       "\n",
       "    .dataframe thead th {\n",
       "        text-align: right;\n",
       "    }\n",
       "</style>\n",
       "<table border=\"1\" class=\"dataframe\">\n",
       "  <thead>\n",
       "    <tr style=\"text-align: right;\">\n",
       "      <th></th>\n",
       "      <th>Alpha</th>\n",
       "      <th>NLL</th>\n",
       "    </tr>\n",
       "  </thead>\n",
       "  <tbody>\n",
       "    <tr>\n",
       "      <td>0</td>\n",
       "      <td>0.100000</td>\n",
       "      <td>3451.180461</td>\n",
       "    </tr>\n",
       "    <tr>\n",
       "      <td>1</td>\n",
       "      <td>0.109820</td>\n",
       "      <td>3440.359554</td>\n",
       "    </tr>\n",
       "    <tr>\n",
       "      <td>2</td>\n",
       "      <td>0.119639</td>\n",
       "      <td>3429.589099</td>\n",
       "    </tr>\n",
       "    <tr>\n",
       "      <td>3</td>\n",
       "      <td>0.129459</td>\n",
       "      <td>3418.869390</td>\n",
       "    </tr>\n",
       "    <tr>\n",
       "      <td>4</td>\n",
       "      <td>0.139279</td>\n",
       "      <td>3408.200718</td>\n",
       "    </tr>\n",
       "    <tr>\n",
       "      <td>...</td>\n",
       "      <td>...</td>\n",
       "      <td>...</td>\n",
       "    </tr>\n",
       "    <tr>\n",
       "      <td>495</td>\n",
       "      <td>4.960721</td>\n",
       "      <td>3682.197143</td>\n",
       "    </tr>\n",
       "    <tr>\n",
       "      <td>496</td>\n",
       "      <td>4.970541</td>\n",
       "      <td>3687.489877</td>\n",
       "    </tr>\n",
       "    <tr>\n",
       "      <td>497</td>\n",
       "      <td>4.980361</td>\n",
       "      <td>3692.779979</td>\n",
       "    </tr>\n",
       "    <tr>\n",
       "      <td>498</td>\n",
       "      <td>4.990180</td>\n",
       "      <td>3698.067399</td>\n",
       "    </tr>\n",
       "    <tr>\n",
       "      <td>499</td>\n",
       "      <td>5.000000</td>\n",
       "      <td>3703.352086</td>\n",
       "    </tr>\n",
       "  </tbody>\n",
       "</table>\n",
       "<p>500 rows × 2 columns</p>\n",
       "</div>"
      ],
      "text/plain": [
       "        Alpha          NLL\n",
       "0    0.100000  3451.180461\n",
       "1    0.109820  3440.359554\n",
       "2    0.119639  3429.589099\n",
       "3    0.129459  3418.869390\n",
       "4    0.139279  3408.200718\n",
       "..        ...          ...\n",
       "495  4.960721  3682.197143\n",
       "496  4.970541  3687.489877\n",
       "497  4.980361  3692.779979\n",
       "498  4.990180  3698.067399\n",
       "499  5.000000  3703.352086\n",
       "\n",
       "[500 rows x 2 columns]"
      ]
     },
     "execution_count": 46,
     "metadata": {},
     "output_type": "execute_result"
    }
   ],
   "source": [
    "plot_results = phe.nll_search2D(betas, ses)\n",
    "plot_results"
   ]
  },
  {
   "cell_type": "code",
   "execution_count": 47,
   "metadata": {},
   "outputs": [
    {
     "data": {
      "text/plain": [
       "Text(0, 0.5, 'Log Likelihood')"
      ]
     },
     "execution_count": 47,
     "metadata": {},
     "output_type": "execute_result"
    },
    {
     "data": {
      "image/png": "[encoded data removed]",
      "text/plain": [
       "<Figure size 432x288 with 1 Axes>"
      ]
     },
     "metadata": {
      "needs_background": "light"
     },
     "output_type": "display_data"
    }
   ],
   "source": [
    "plot_results['LL'] = -1*plot_results['NLL']\n",
    "sns.lineplot(data = plot_results, x = 'Alpha', y = 'LL')\n",
    "plt.axvline(x = 1, color = 'grey')\n",
    "plt.suptitle('Log Likelihood when Adjusting for Dilution')\n",
    "plt.title('Inferring Dilution from Simulated Data')\n",
    "plt.xlabel('Alpha (Relative Dilution) Parameter')\n",
    "plt.ylabel('Log Likelihood')"
   ]
  },
  {
   "cell_type": "markdown",
   "metadata": {},
   "source": [
    "### 3. Meta-Analysis"
   ]
  },
  {
   "cell_type": "code",
   "execution_count": 48,
   "metadata": {},
   "outputs": [
    {
     "data": {
      "text/html": [
       "<div>\n",
       "<style scoped>\n",
       "    .dataframe tbody tr th:only-of-type {\n",
       "        vertical-align: middle;\n",
       "    }\n",
       "\n",
       "    .dataframe tbody tr th {\n",
       "        vertical-align: top;\n",
       "    }\n",
       "\n",
       "    .dataframe thead th {\n",
       "        text-align: right;\n",
       "    }\n",
       "</style>\n",
       "<table border=\"1\" class=\"dataframe\">\n",
       "  <thead>\n",
       "    <tr style=\"text-align: right;\">\n",
       "      <th></th>\n",
       "      <th>SNP</th>\n",
       "      <th>CHR</th>\n",
       "      <th>POS</th>\n",
       "      <th>BETA_Gold</th>\n",
       "      <th>BETA_Diluted</th>\n",
       "      <th>SE_Gold</th>\n",
       "      <th>SE_Diluted</th>\n",
       "      <th>Z</th>\n",
       "    </tr>\n",
       "  </thead>\n",
       "  <tbody>\n",
       "    <tr>\n",
       "      <td>0</td>\n",
       "      <td>1</td>\n",
       "      <td>1</td>\n",
       "      <td>1</td>\n",
       "      <td>0.069529</td>\n",
       "      <td>0.010957</td>\n",
       "      <td>0.044721</td>\n",
       "      <td>0.01</td>\n",
       "      <td>1.622046</td>\n",
       "    </tr>\n",
       "    <tr>\n",
       "      <td>1</td>\n",
       "      <td>2</td>\n",
       "      <td>1</td>\n",
       "      <td>2</td>\n",
       "      <td>0.038759</td>\n",
       "      <td>0.015121</td>\n",
       "      <td>0.044721</td>\n",
       "      <td>0.01</td>\n",
       "      <td>1.731773</td>\n",
       "    </tr>\n",
       "    <tr>\n",
       "      <td>2</td>\n",
       "      <td>3</td>\n",
       "      <td>1</td>\n",
       "      <td>3</td>\n",
       "      <td>0.045990</td>\n",
       "      <td>-0.000488</td>\n",
       "      <td>0.044721</td>\n",
       "      <td>0.01</td>\n",
       "      <td>0.362680</td>\n",
       "    </tr>\n",
       "    <tr>\n",
       "      <td>3</td>\n",
       "      <td>4</td>\n",
       "      <td>1</td>\n",
       "      <td>4</td>\n",
       "      <td>-0.074794</td>\n",
       "      <td>-0.010719</td>\n",
       "      <td>0.044721</td>\n",
       "      <td>0.01</td>\n",
       "      <td>-1.646765</td>\n",
       "    </tr>\n",
       "    <tr>\n",
       "      <td>4</td>\n",
       "      <td>5</td>\n",
       "      <td>1</td>\n",
       "      <td>5</td>\n",
       "      <td>-0.018515</td>\n",
       "      <td>0.011009</td>\n",
       "      <td>0.044721</td>\n",
       "      <td>0.01</td>\n",
       "      <td>0.846813</td>\n",
       "    </tr>\n",
       "    <tr>\n",
       "      <td>...</td>\n",
       "      <td>...</td>\n",
       "      <td>...</td>\n",
       "      <td>...</td>\n",
       "      <td>...</td>\n",
       "      <td>...</td>\n",
       "      <td>...</td>\n",
       "      <td>...</td>\n",
       "      <td>...</td>\n",
       "    </tr>\n",
       "    <tr>\n",
       "      <td>4995</td>\n",
       "      <td>4996</td>\n",
       "      <td>1</td>\n",
       "      <td>4996</td>\n",
       "      <td>0.078014</td>\n",
       "      <td>0.004748</td>\n",
       "      <td>0.044721</td>\n",
       "      <td>0.01</td>\n",
       "      <td>1.127127</td>\n",
       "    </tr>\n",
       "    <tr>\n",
       "      <td>4996</td>\n",
       "      <td>4997</td>\n",
       "      <td>1</td>\n",
       "      <td>4997</td>\n",
       "      <td>0.040007</td>\n",
       "      <td>0.025823</td>\n",
       "      <td>0.044721</td>\n",
       "      <td>0.01</td>\n",
       "      <td>2.725419</td>\n",
       "    </tr>\n",
       "    <tr>\n",
       "      <td>4997</td>\n",
       "      <td>4998</td>\n",
       "      <td>1</td>\n",
       "      <td>4998</td>\n",
       "      <td>-0.057730</td>\n",
       "      <td>0.006685</td>\n",
       "      <td>0.044721</td>\n",
       "      <td>0.01</td>\n",
       "      <td>0.102326</td>\n",
       "    </tr>\n",
       "    <tr>\n",
       "      <td>4998</td>\n",
       "      <td>4999</td>\n",
       "      <td>1</td>\n",
       "      <td>4999</td>\n",
       "      <td>-0.003057</td>\n",
       "      <td>0.001067</td>\n",
       "      <td>0.044721</td>\n",
       "      <td>0.01</td>\n",
       "      <td>0.070844</td>\n",
       "    </tr>\n",
       "    <tr>\n",
       "      <td>4999</td>\n",
       "      <td>5000</td>\n",
       "      <td>1</td>\n",
       "      <td>5000</td>\n",
       "      <td>0.038027</td>\n",
       "      <td>0.004365</td>\n",
       "      <td>0.044721</td>\n",
       "      <td>0.01</td>\n",
       "      <td>0.737671</td>\n",
       "    </tr>\n",
       "  </tbody>\n",
       "</table>\n",
       "<p>5000 rows × 8 columns</p>\n",
       "</div>"
      ],
      "text/plain": [
       "       SNP  CHR   POS  BETA_Gold  BETA_Diluted   SE_Gold  SE_Diluted         Z\n",
       "0        1    1     1   0.069529      0.010957  0.044721        0.01  1.622046\n",
       "1        2    1     2   0.038759      0.015121  0.044721        0.01  1.731773\n",
       "2        3    1     3   0.045990     -0.000488  0.044721        0.01  0.362680\n",
       "3        4    1     4  -0.074794     -0.010719  0.044721        0.01 -1.646765\n",
       "4        5    1     5  -0.018515      0.011009  0.044721        0.01  0.846813\n",
       "...    ...  ...   ...        ...           ...       ...         ...       ...\n",
       "4995  4996    1  4996   0.078014      0.004748  0.044721        0.01  1.127127\n",
       "4996  4997    1  4997   0.040007      0.025823  0.044721        0.01  2.725419\n",
       "4997  4998    1  4998  -0.057730      0.006685  0.044721        0.01  0.102326\n",
       "4998  4999    1  4999  -0.003057      0.001067  0.044721        0.01  0.070844\n",
       "4999  5000    1  5000   0.038027      0.004365  0.044721        0.01  0.737671\n",
       "\n",
       "[5000 rows x 8 columns]"
      ]
     },
     "execution_count": 48,
     "metadata": {},
     "output_type": "execute_result"
    }
   ],
   "source": [
    "df_results['Z'] = phe.compute_meta_scores(betas, ses, optimizer.x)\n",
    "df_results"
   ]
  },
  {
   "cell_type": "code",
   "execution_count": 50,
   "metadata": {},
   "outputs": [
    {
     "data": {
      "text/html": [
       "<div>\n",
       "<style scoped>\n",
       "    .dataframe tbody tr th:only-of-type {\n",
       "        vertical-align: middle;\n",
       "    }\n",
       "\n",
       "    .dataframe tbody tr th {\n",
       "        vertical-align: top;\n",
       "    }\n",
       "\n",
       "    .dataframe thead th {\n",
       "        text-align: right;\n",
       "    }\n",
       "</style>\n",
       "<table border=\"1\" class=\"dataframe\">\n",
       "  <thead>\n",
       "    <tr style=\"text-align: right;\">\n",
       "      <th></th>\n",
       "      <th>SNP</th>\n",
       "      <th>CHR</th>\n",
       "      <th>POS</th>\n",
       "      <th>BETA_Gold</th>\n",
       "      <th>BETA_Diluted</th>\n",
       "      <th>SE_Gold</th>\n",
       "      <th>SE_Diluted</th>\n",
       "      <th>Z</th>\n",
       "      <th>TEMA_P</th>\n",
       "    </tr>\n",
       "  </thead>\n",
       "  <tbody>\n",
       "    <tr>\n",
       "      <td>0</td>\n",
       "      <td>1</td>\n",
       "      <td>1</td>\n",
       "      <td>1</td>\n",
       "      <td>0.069529</td>\n",
       "      <td>0.010957</td>\n",
       "      <td>0.044721</td>\n",
       "      <td>0.01</td>\n",
       "      <td>1.622046</td>\n",
       "      <td>0.104794</td>\n",
       "    </tr>\n",
       "    <tr>\n",
       "      <td>1</td>\n",
       "      <td>2</td>\n",
       "      <td>1</td>\n",
       "      <td>2</td>\n",
       "      <td>0.038759</td>\n",
       "      <td>0.015121</td>\n",
       "      <td>0.044721</td>\n",
       "      <td>0.01</td>\n",
       "      <td>1.731773</td>\n",
       "      <td>0.083314</td>\n",
       "    </tr>\n",
       "    <tr>\n",
       "      <td>2</td>\n",
       "      <td>3</td>\n",
       "      <td>1</td>\n",
       "      <td>3</td>\n",
       "      <td>0.045990</td>\n",
       "      <td>-0.000488</td>\n",
       "      <td>0.044721</td>\n",
       "      <td>0.01</td>\n",
       "      <td>0.362680</td>\n",
       "      <td>0.716844</td>\n",
       "    </tr>\n",
       "    <tr>\n",
       "      <td>3</td>\n",
       "      <td>4</td>\n",
       "      <td>1</td>\n",
       "      <td>4</td>\n",
       "      <td>-0.074794</td>\n",
       "      <td>-0.010719</td>\n",
       "      <td>0.044721</td>\n",
       "      <td>0.01</td>\n",
       "      <td>-1.646765</td>\n",
       "      <td>0.099606</td>\n",
       "    </tr>\n",
       "    <tr>\n",
       "      <td>4</td>\n",
       "      <td>5</td>\n",
       "      <td>1</td>\n",
       "      <td>5</td>\n",
       "      <td>-0.018515</td>\n",
       "      <td>0.011009</td>\n",
       "      <td>0.044721</td>\n",
       "      <td>0.01</td>\n",
       "      <td>0.846813</td>\n",
       "      <td>0.397100</td>\n",
       "    </tr>\n",
       "    <tr>\n",
       "      <td>...</td>\n",
       "      <td>...</td>\n",
       "      <td>...</td>\n",
       "      <td>...</td>\n",
       "      <td>...</td>\n",
       "      <td>...</td>\n",
       "      <td>...</td>\n",
       "      <td>...</td>\n",
       "      <td>...</td>\n",
       "      <td>...</td>\n",
       "    </tr>\n",
       "    <tr>\n",
       "      <td>4995</td>\n",
       "      <td>4996</td>\n",
       "      <td>1</td>\n",
       "      <td>4996</td>\n",
       "      <td>0.078014</td>\n",
       "      <td>0.004748</td>\n",
       "      <td>0.044721</td>\n",
       "      <td>0.01</td>\n",
       "      <td>1.127127</td>\n",
       "      <td>0.259689</td>\n",
       "    </tr>\n",
       "    <tr>\n",
       "      <td>4996</td>\n",
       "      <td>4997</td>\n",
       "      <td>1</td>\n",
       "      <td>4997</td>\n",
       "      <td>0.040007</td>\n",
       "      <td>0.025823</td>\n",
       "      <td>0.044721</td>\n",
       "      <td>0.01</td>\n",
       "      <td>2.725419</td>\n",
       "      <td>0.006422</td>\n",
       "    </tr>\n",
       "    <tr>\n",
       "      <td>4997</td>\n",
       "      <td>4998</td>\n",
       "      <td>1</td>\n",
       "      <td>4998</td>\n",
       "      <td>-0.057730</td>\n",
       "      <td>0.006685</td>\n",
       "      <td>0.044721</td>\n",
       "      <td>0.01</td>\n",
       "      <td>0.102326</td>\n",
       "      <td>0.918498</td>\n",
       "    </tr>\n",
       "    <tr>\n",
       "      <td>4998</td>\n",
       "      <td>4999</td>\n",
       "      <td>1</td>\n",
       "      <td>4999</td>\n",
       "      <td>-0.003057</td>\n",
       "      <td>0.001067</td>\n",
       "      <td>0.044721</td>\n",
       "      <td>0.01</td>\n",
       "      <td>0.070844</td>\n",
       "      <td>0.943522</td>\n",
       "    </tr>\n",
       "    <tr>\n",
       "      <td>4999</td>\n",
       "      <td>5000</td>\n",
       "      <td>1</td>\n",
       "      <td>5000</td>\n",
       "      <td>0.038027</td>\n",
       "      <td>0.004365</td>\n",
       "      <td>0.044721</td>\n",
       "      <td>0.01</td>\n",
       "      <td>0.737671</td>\n",
       "      <td>0.460714</td>\n",
       "    </tr>\n",
       "  </tbody>\n",
       "</table>\n",
       "<p>5000 rows × 9 columns</p>\n",
       "</div>"
      ],
      "text/plain": [
       "       SNP  CHR   POS  BETA_Gold  BETA_Diluted   SE_Gold  SE_Diluted  \\\n",
       "0        1    1     1   0.069529      0.010957  0.044721        0.01   \n",
       "1        2    1     2   0.038759      0.015121  0.044721        0.01   \n",
       "2        3    1     3   0.045990     -0.000488  0.044721        0.01   \n",
       "3        4    1     4  -0.074794     -0.010719  0.044721        0.01   \n",
       "4        5    1     5  -0.018515      0.011009  0.044721        0.01   \n",
       "...    ...  ...   ...        ...           ...       ...         ...   \n",
       "4995  4996    1  4996   0.078014      0.004748  0.044721        0.01   \n",
       "4996  4997    1  4997   0.040007      0.025823  0.044721        0.01   \n",
       "4997  4998    1  4998  -0.057730      0.006685  0.044721        0.01   \n",
       "4998  4999    1  4999  -0.003057      0.001067  0.044721        0.01   \n",
       "4999  5000    1  5000   0.038027      0.004365  0.044721        0.01   \n",
       "\n",
       "             Z    TEMA_P  \n",
       "0     1.622046  0.104794  \n",
       "1     1.731773  0.083314  \n",
       "2     0.362680  0.716844  \n",
       "3    -1.646765  0.099606  \n",
       "4     0.846813  0.397100  \n",
       "...        ...       ...  \n",
       "4995  1.127127  0.259689  \n",
       "4996  2.725419  0.006422  \n",
       "4997  0.102326  0.918498  \n",
       "4998  0.070844  0.943522  \n",
       "4999  0.737671  0.460714  \n",
       "\n",
       "[5000 rows x 9 columns]"
      ]
     },
     "execution_count": 50,
     "metadata": {},
     "output_type": "execute_result"
    }
   ],
   "source": [
    "#create a 2 sided p-value from z-statistic\n",
    "df_results['TEMA_P'] = 2*norm.cdf(-1*np.abs(df_results['Z']))\n",
    "df_results"
   ]
  },
  {
   "cell_type": "markdown",
   "metadata": {},
   "source": [
    "### 4. Create Confidence Intervals for Effective Dilution"
   ]
  },
  {
   "cell_type": "code",
   "execution_count": null,
   "metadata": {},
   "outputs": [],
   "source": [
    "#for real data\n",
    "#start with random clumping SNPs in 250kb region, r^2 threshold = .5\n",
    "#pvalues for each snp are produced through simulation of a uniform distribution"
   ]
  },
  {
   "cell_type": "code",
   "execution_count": null,
   "metadata": {},
   "outputs": [],
   "source": [
    "#for confidence intervals- important that observations are sorted by CHR, POS"
   ]
  },
  {
   "cell_type": "code",
   "execution_count": 56,
   "metadata": {
    "scrolled": true
   },
   "outputs": [
    {
     "data": {
      "application/vnd.jupyter.widget-view+json": {
       "model_id": "628c900707314176a8a57507162dc524",
       "version_major": 2,
       "version_minor": 0
      },
      "text/plain": [
       "HBox(children=(IntProgress(value=0, max=1000), HTML(value='')))"
      ]
     },
     "metadata": {},
     "output_type": "display_data"
    },
    {
     "name": "stdout",
     "output_type": "stream",
     "text": [
      "\n",
      "0\n",
      "    Shift  CovRatio   BaseCov  AbsShift  Lambda  LambdaG\n",
      "-1    0.0       1.0  0.000985       0.0       1      0.0\n"
     ]
    },
    {
     "name": "stderr",
     "output_type": "stream",
     "text": [
      "/Users/davidburstein/Documents/GitHub/PheMED/bootstrap.py:78: SettingWithCopyWarning: \n",
      "A value is trying to be set on a copy of a slice from a DataFrame.\n",
      "Try using .loc[row_indexer,col_indexer] = value instead\n",
      "\n",
      "See the caveats in the documentation: http://pandas.pydata.org/pandas-docs/stable/user_guide/indexing.html#returning-a-view-versus-a-copy\n",
      "  df_corr_mini = df_corr.loc[df_corr['AbsShift'] <= block_size]\n",
      "/Users/davidburstein/Documents/GitHub/PheMED/bootstrap.py:79: SettingWithCopyWarning: \n",
      "A value is trying to be set on a copy of a slice from a DataFrame.\n",
      "Try using .loc[row_indexer,col_indexer] = value instead\n",
      "\n",
      "See the caveats in the documentation: http://pandas.pydata.org/pandas-docs/stable/user_guide/indexing.html#returning-a-view-versus-a-copy\n",
      "  df_corr_mini['Lambda'] = df_corr_mini['Shift'].apply(lambda x: trap_function(x, total_distance = block_size))\n"
     ]
    },
    {
     "data": {
      "text/plain": [
       "0"
      ]
     },
     "execution_count": 56,
     "metadata": {},
     "output_type": "execute_result"
    }
   ],
   "source": [
    "df_results = df_results.sort_values(by = ['CHR','POS']).reset_index(drop = True)\n",
    "corr_stats = boots.compute_autocorr(df_results, 'BETA_Gold', shift_range = 500)\n",
    "block = boots.compute_block_size(corr_stats, df_results)\n",
    "print(block)\n",
    "g, d = boots.compute_g_and_d(corr_stats, 2*block)\n",
    "final_block_size_gold = boots.compute_final_block_size(df_results, g, d)\n",
    "final_block_size_gold"
   ]
  },
  {
   "cell_type": "code",
   "execution_count": 63,
   "metadata": {},
   "outputs": [
    {
     "data": {
      "application/vnd.jupyter.widget-view+json": {
       "model_id": "a13e9428fda940368f528773ab765a34",
       "version_major": 2,
       "version_minor": 0
      },
      "text/plain": [
       "HBox(children=(IntProgress(value=0, max=1000), HTML(value='')))"
      ]
     },
     "metadata": {},
     "output_type": "display_data"
    },
    {
     "name": "stdout",
     "output_type": "stream",
     "text": [
      "\n",
      "0\n",
      "    Shift  CovRatio   BaseCov  AbsShift  Lambda  LambdaG\n",
      "-1    0.0       1.0  0.000084       0.0       1      0.0\n"
     ]
    },
    {
     "data": {
      "text/plain": [
       "0"
      ]
     },
     "execution_count": 63,
     "metadata": {},
     "output_type": "execute_result"
    }
   ],
   "source": [
    "corr_stats = boots.compute_autocorr(df_results, 'BETA_Diluted', shift_range = 500)\n",
    "block = boots.compute_block_size(corr_stats, df_results)\n",
    "print(block)\n",
    "g, d = boots.compute_g_and_d(corr_stats, 2*block)\n",
    "final_block_size_diluted = boots.compute_final_block_size(df_results, g, d)\n",
    "final_block_size_diluted"
   ]
  },
  {
   "cell_type": "code",
   "execution_count": 64,
   "metadata": {},
   "outputs": [],
   "source": [
    "final_block_size = np.max([final_block_size_gold, final_block_size_diluted,1])"
   ]
  },
  {
   "cell_type": "code",
   "execution_count": 71,
   "metadata": {},
   "outputs": [
    {
     "data": {
      "application/vnd.jupyter.widget-view+json": {
       "model_id": "fb58a14c66034790b8b0015cf3c98b70",
       "version_major": 2,
       "version_minor": 0
      },
      "text/plain": [
       "HBox(children=(IntProgress(value=0, max=2000), HTML(value='')))"
      ]
     },
     "metadata": {},
     "output_type": "display_data"
    },
    {
     "name": "stdout",
     "output_type": "stream",
     "text": [
      "\n"
     ]
    }
   ],
   "source": [
    "np.random.seed(18)\n",
    "df_results_sim = pd.DataFrame(columns = ['Sample', 'Alpha', 'Convergence'])\n",
    "for i in tqdm_notebook(range(2000)):\n",
    "    df_results_sample = boots.circular_block_bootstrap(df_results,final_block_size)\n",
    "    #df_meta_sample = df_meta.sample(n = df_meta.shape[0], replace = True)\n",
    "    betas = df_results_sample[beta_vars]\n",
    "    ses = df_results_sample[se_vars]\n",
    "    optimizer = minimize(lambda x: phe.nll_data(betas,ses, x), np.array((1,1)), \n",
    "                        options={'maxiter': 300}, method = 'Nelder-Mead')\n",
    "    df_results_sim.loc[i] = [i, optimizer.x[1], optimizer.message]"
   ]
  },
  {
   "cell_type": "code",
   "execution_count": 72,
   "metadata": {},
   "outputs": [],
   "source": [
    "top_alpha = df_results_sim.sort_values(by = 'Alpha', ascending = False)['Alpha']"
   ]
  },
  {
   "cell_type": "code",
   "execution_count": 73,
   "metadata": {},
   "outputs": [
    {
     "data": {
      "text/plain": [
       "Text(0.5, 1.0, 'Top Performing Alpha, 100 Bootstrap Samples')"
      ]
     },
     "execution_count": 73,
     "metadata": {},
     "output_type": "execute_result"
    },
    {
     "data": {
      "image/png": "[encoded data removed]",
      "text/plain": [
       "<Figure size 432x288 with 1 Axes>"
      ]
     },
     "metadata": {
      "needs_background": "light"
     },
     "output_type": "display_data"
    }
   ],
   "source": [
    "sns.distplot(top_alpha, color = 'skyblue', kde = False)\n",
    "plt.xticks(rotation = 45)\n",
    "plt.ylabel('Frequency')\n",
    "plt.title('Top Performing Alpha, 100 Bootstrap Samples')"
   ]
  },
  {
   "cell_type": "code",
   "execution_count": 74,
   "metadata": {},
   "outputs": [
    {
     "data": {
      "text/html": [
       "<div>\n",
       "<style scoped>\n",
       "    .dataframe tbody tr th:only-of-type {\n",
       "        vertical-align: middle;\n",
       "    }\n",
       "\n",
       "    .dataframe tbody tr th {\n",
       "        vertical-align: top;\n",
       "    }\n",
       "\n",
       "    .dataframe thead th {\n",
       "        text-align: right;\n",
       "    }\n",
       "</style>\n",
       "<table border=\"1\" class=\"dataframe\">\n",
       "  <thead>\n",
       "    <tr style=\"text-align: right;\">\n",
       "      <th></th>\n",
       "      <th>Alpha</th>\n",
       "    </tr>\n",
       "  </thead>\n",
       "  <tbody>\n",
       "    <tr>\n",
       "      <td>0.025</td>\n",
       "      <td>1.828874</td>\n",
       "    </tr>\n",
       "    <tr>\n",
       "      <td>0.500</td>\n",
       "      <td>1.929954</td>\n",
       "    </tr>\n",
       "    <tr>\n",
       "      <td>0.975</td>\n",
       "      <td>2.024713</td>\n",
       "    </tr>\n",
       "  </tbody>\n",
       "</table>\n",
       "</div>"
      ],
      "text/plain": [
       "          Alpha\n",
       "0.025  1.828874\n",
       "0.500  1.929954\n",
       "0.975  2.024713"
      ]
     },
     "execution_count": 74,
     "metadata": {},
     "output_type": "execute_result"
    }
   ],
   "source": [
    "pd.DataFrame(df_results_sim['Alpha'].quantile([.025,.50,.975]))"
   ]
  },
  {
   "cell_type": "code",
   "execution_count": null,
   "metadata": {},
   "outputs": [],
   "source": []
  }
 ],
 "metadata": {
  "kernelspec": {
   "display_name": "Python 3",
   "language": "python",
   "name": "python3"
  },
  "language_info": {
   "codemirror_mode": {
    "name": "ipython",
    "version": 3
   },
   "file_extension": ".py",
   "mimetype": "text/x-python",
   "name": "python",
   "nbconvert_exporter": "python",
   "pygments_lexer": "ipython3",
   "version": "3.7.4"
  }
 },
 "nbformat": 4,
 "nbformat_minor": 2
}
